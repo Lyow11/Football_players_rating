{
 "cells": [
  {
   "cell_type": "code",
   "execution_count": 100,
   "id": "29c84cbd",
   "metadata": {},
   "outputs": [],
   "source": [
    "import pandas as pd"
   ]
  },
  {
   "cell_type": "markdown",
   "id": "eb718e33",
   "metadata": {},
   "source": [
    "## Read data"
   ]
  },
  {
   "cell_type": "code",
   "execution_count": 15,
   "id": "81950d22",
   "metadata": {},
   "outputs": [],
   "source": [
    "df = pd.read_csv(\"playerstable.csv\", delimiter=\";\").set_index(\"Playerid\")"
   ]
  },
  {
   "cell_type": "code",
   "execution_count": 16,
   "id": "817e95a6",
   "metadata": {},
   "outputs": [
    {
     "name": "stdout",
     "output_type": "stream",
     "text": [
      "<class 'pandas.core.frame.DataFrame'>\n",
      "Int64Index: 1610 entries, 1 to 1610\n",
      "Data columns (total 14 columns):\n",
      " #   Column      Non-Null Count  Dtype  \n",
      "---  ------      --------------  -----  \n",
      " 0   Name        1610 non-null   object \n",
      " 1   Team        1610 non-null   object \n",
      " 2   Age         1610 non-null   int64  \n",
      " 3   Apps        1610 non-null   object \n",
      " 4   Mins        1610 non-null   int64  \n",
      " 5   Goals       1610 non-null   object \n",
      " 6   Assists     1610 non-null   object \n",
      " 7   Yel         1610 non-null   object \n",
      " 8   Red         1610 non-null   object \n",
      " 9   SpG         1610 non-null   object \n",
      " 10  PS%         1610 non-null   float64\n",
      " 11  AerialsWon  1610 non-null   object \n",
      " 12  MotM        1610 non-null   object \n",
      " 13  Rating      1610 non-null   float64\n",
      "dtypes: float64(2), int64(2), object(10)\n",
      "memory usage: 188.7+ KB\n"
     ]
    }
   ],
   "source": [
    "df.info()"
   ]
  },
  {
   "cell_type": "code",
   "execution_count": 17,
   "id": "77010f76",
   "metadata": {},
   "outputs": [
    {
     "data": {
      "text/html": [
       "<div>\n",
       "<style scoped>\n",
       "    .dataframe tbody tr th:only-of-type {\n",
       "        vertical-align: middle;\n",
       "    }\n",
       "\n",
       "    .dataframe tbody tr th {\n",
       "        vertical-align: top;\n",
       "    }\n",
       "\n",
       "    .dataframe thead th {\n",
       "        text-align: right;\n",
       "    }\n",
       "</style>\n",
       "<table border=\"1\" class=\"dataframe\">\n",
       "  <thead>\n",
       "    <tr style=\"text-align: right;\">\n",
       "      <th></th>\n",
       "      <th>Name</th>\n",
       "      <th>Team</th>\n",
       "      <th>Age</th>\n",
       "      <th>Apps</th>\n",
       "      <th>Mins</th>\n",
       "      <th>Goals</th>\n",
       "      <th>Assists</th>\n",
       "      <th>Yel</th>\n",
       "      <th>Red</th>\n",
       "      <th>SpG</th>\n",
       "      <th>PS%</th>\n",
       "      <th>AerialsWon</th>\n",
       "      <th>MotM</th>\n",
       "      <th>Rating</th>\n",
       "    </tr>\n",
       "    <tr>\n",
       "      <th>Playerid</th>\n",
       "      <th></th>\n",
       "      <th></th>\n",
       "      <th></th>\n",
       "      <th></th>\n",
       "      <th></th>\n",
       "      <th></th>\n",
       "      <th></th>\n",
       "      <th></th>\n",
       "      <th></th>\n",
       "      <th></th>\n",
       "      <th></th>\n",
       "      <th></th>\n",
       "      <th></th>\n",
       "      <th></th>\n",
       "    </tr>\n",
       "  </thead>\n",
       "  <tbody>\n",
       "    <tr>\n",
       "      <th>1</th>\n",
       "      <td>Robert Lewandowski</td>\n",
       "      <td>Bayern,</td>\n",
       "      <td>33</td>\n",
       "      <td>27</td>\n",
       "      <td>2351</td>\n",
       "      <td>31\\t</td>\n",
       "      <td>1\\t</td>\n",
       "      <td>2\\t</td>\n",
       "      <td>-\\t</td>\n",
       "      <td>5\\t</td>\n",
       "      <td>77.9</td>\n",
       "      <td>1.6\\t</td>\n",
       "      <td>8\\t</td>\n",
       "      <td>8.03</td>\n",
       "    </tr>\n",
       "    <tr>\n",
       "      <th>2</th>\n",
       "      <td>Kylian Mbappé</td>\n",
       "      <td>PSG,</td>\n",
       "      <td>23</td>\n",
       "      <td>25(1)</td>\n",
       "      <td>2222</td>\n",
       "      <td>15\\t</td>\n",
       "      <td>10\\t</td>\n",
       "      <td>8\\t</td>\n",
       "      <td>-\\t</td>\n",
       "      <td>4\\t</td>\n",
       "      <td>81.0</td>\n",
       "      <td>0.1\\t</td>\n",
       "      <td>8\\t</td>\n",
       "      <td>7.81</td>\n",
       "    </tr>\n",
       "    <tr>\n",
       "      <th>3</th>\n",
       "      <td>Karim Benzema</td>\n",
       "      <td>Real Madrid,</td>\n",
       "      <td>34</td>\n",
       "      <td>25</td>\n",
       "      <td>2060</td>\n",
       "      <td>22\\t</td>\n",
       "      <td>11\\t</td>\n",
       "      <td>-\\t</td>\n",
       "      <td>-\\t</td>\n",
       "      <td>3.8\\t</td>\n",
       "      <td>85.5</td>\n",
       "      <td>0.6\\t</td>\n",
       "      <td>10\\t</td>\n",
       "      <td>7.77</td>\n",
       "    </tr>\n",
       "    <tr>\n",
       "      <th>4</th>\n",
       "      <td>Mohamed Salah</td>\n",
       "      <td>Liverpool,</td>\n",
       "      <td>29</td>\n",
       "      <td>25(2)</td>\n",
       "      <td>2263</td>\n",
       "      <td>20\\t</td>\n",
       "      <td>10\\t</td>\n",
       "      <td>1\\t</td>\n",
       "      <td>-\\t</td>\n",
       "      <td>4.3\\t</td>\n",
       "      <td>80.0</td>\n",
       "      <td>0.2\\t</td>\n",
       "      <td>6\\t</td>\n",
       "      <td>7.71</td>\n",
       "    </tr>\n",
       "    <tr>\n",
       "      <th>5</th>\n",
       "      <td>Vinícius Júnior</td>\n",
       "      <td>Real Madrid,</td>\n",
       "      <td>21</td>\n",
       "      <td>25(2)</td>\n",
       "      <td>2212</td>\n",
       "      <td>14\\t</td>\n",
       "      <td>6\\t</td>\n",
       "      <td>6\\t</td>\n",
       "      <td>-\\t</td>\n",
       "      <td>2.5\\t</td>\n",
       "      <td>85.6</td>\n",
       "      <td>0.1\\t</td>\n",
       "      <td>6\\t</td>\n",
       "      <td>7.67</td>\n",
       "    </tr>\n",
       "  </tbody>\n",
       "</table>\n",
       "</div>"
      ],
      "text/plain": [
       "                        Name           Team  Age   Apps  Mins Goals Assists  \\\n",
       "Playerid                                                                      \n",
       "1         Robert Lewandowski       Bayern,    33     27  2351  31\\t     1\\t   \n",
       "2              Kylian Mbappé          PSG,    23  25(1)  2222  15\\t    10\\t   \n",
       "3              Karim Benzema  Real Madrid,    34     25  2060  22\\t    11\\t   \n",
       "4              Mohamed Salah    Liverpool,    29  25(2)  2263  20\\t    10\\t   \n",
       "5            Vinícius Júnior  Real Madrid,    21  25(2)  2212  14\\t     6\\t   \n",
       "\n",
       "          Yel  Red    SpG   PS% AerialsWon  MotM  Rating  \n",
       "Playerid                                                  \n",
       "1         2\\t  -\\t    5\\t  77.9      1.6\\t   8\\t    8.03  \n",
       "2         8\\t  -\\t    4\\t  81.0      0.1\\t   8\\t    7.81  \n",
       "3         -\\t  -\\t  3.8\\t  85.5      0.6\\t  10\\t    7.77  \n",
       "4         1\\t  -\\t  4.3\\t  80.0      0.2\\t   6\\t    7.71  \n",
       "5         6\\t  -\\t  2.5\\t  85.6      0.1\\t   6\\t    7.67  "
      ]
     },
     "execution_count": 17,
     "metadata": {},
     "output_type": "execute_result"
    }
   ],
   "source": [
    "df.head()"
   ]
  },
  {
   "cell_type": "markdown",
   "id": "e4a4c49d",
   "metadata": {},
   "source": [
    "## Cleaning and Preparation"
   ]
  },
  {
   "cell_type": "code",
   "execution_count": 27,
   "id": "5db14339",
   "metadata": {},
   "outputs": [],
   "source": [
    "# Remove \",\" after team name \n",
    "df[\"Team\"] = df[\"Team\"].str.replace(\",\", \"\")"
   ]
  },
  {
   "cell_type": "code",
   "execution_count": 28,
   "id": "b924cff4",
   "metadata": {},
   "outputs": [
    {
     "data": {
      "text/html": [
       "<div>\n",
       "<style scoped>\n",
       "    .dataframe tbody tr th:only-of-type {\n",
       "        vertical-align: middle;\n",
       "    }\n",
       "\n",
       "    .dataframe tbody tr th {\n",
       "        vertical-align: top;\n",
       "    }\n",
       "\n",
       "    .dataframe thead th {\n",
       "        text-align: right;\n",
       "    }\n",
       "</style>\n",
       "<table border=\"1\" class=\"dataframe\">\n",
       "  <thead>\n",
       "    <tr style=\"text-align: right;\">\n",
       "      <th></th>\n",
       "      <th>Name</th>\n",
       "      <th>Team</th>\n",
       "      <th>Age</th>\n",
       "      <th>Apps</th>\n",
       "      <th>Mins</th>\n",
       "      <th>Goals</th>\n",
       "      <th>Assists</th>\n",
       "      <th>Yel</th>\n",
       "      <th>Red</th>\n",
       "      <th>SpG</th>\n",
       "      <th>PS%</th>\n",
       "      <th>AerialsWon</th>\n",
       "      <th>MotM</th>\n",
       "      <th>Rating</th>\n",
       "    </tr>\n",
       "    <tr>\n",
       "      <th>Playerid</th>\n",
       "      <th></th>\n",
       "      <th></th>\n",
       "      <th></th>\n",
       "      <th></th>\n",
       "      <th></th>\n",
       "      <th></th>\n",
       "      <th></th>\n",
       "      <th></th>\n",
       "      <th></th>\n",
       "      <th></th>\n",
       "      <th></th>\n",
       "      <th></th>\n",
       "      <th></th>\n",
       "      <th></th>\n",
       "    </tr>\n",
       "  </thead>\n",
       "  <tbody>\n",
       "    <tr>\n",
       "      <th>1</th>\n",
       "      <td>Robert Lewandowski</td>\n",
       "      <td>Bayern</td>\n",
       "      <td>33</td>\n",
       "      <td>27</td>\n",
       "      <td>2351</td>\n",
       "      <td>31\\t</td>\n",
       "      <td>1\\t</td>\n",
       "      <td>2\\t</td>\n",
       "      <td>-\\t</td>\n",
       "      <td>5\\t</td>\n",
       "      <td>77.9</td>\n",
       "      <td>1.6\\t</td>\n",
       "      <td>8\\t</td>\n",
       "      <td>8.03</td>\n",
       "    </tr>\n",
       "    <tr>\n",
       "      <th>2</th>\n",
       "      <td>Kylian Mbappé</td>\n",
       "      <td>PSG</td>\n",
       "      <td>23</td>\n",
       "      <td>25(1)</td>\n",
       "      <td>2222</td>\n",
       "      <td>15\\t</td>\n",
       "      <td>10\\t</td>\n",
       "      <td>8\\t</td>\n",
       "      <td>-\\t</td>\n",
       "      <td>4\\t</td>\n",
       "      <td>81.0</td>\n",
       "      <td>0.1\\t</td>\n",
       "      <td>8\\t</td>\n",
       "      <td>7.81</td>\n",
       "    </tr>\n",
       "    <tr>\n",
       "      <th>3</th>\n",
       "      <td>Karim Benzema</td>\n",
       "      <td>Real Madrid</td>\n",
       "      <td>34</td>\n",
       "      <td>25</td>\n",
       "      <td>2060</td>\n",
       "      <td>22\\t</td>\n",
       "      <td>11\\t</td>\n",
       "      <td>-\\t</td>\n",
       "      <td>-\\t</td>\n",
       "      <td>3.8\\t</td>\n",
       "      <td>85.5</td>\n",
       "      <td>0.6\\t</td>\n",
       "      <td>10\\t</td>\n",
       "      <td>7.77</td>\n",
       "    </tr>\n",
       "    <tr>\n",
       "      <th>4</th>\n",
       "      <td>Mohamed Salah</td>\n",
       "      <td>Liverpool</td>\n",
       "      <td>29</td>\n",
       "      <td>25(2)</td>\n",
       "      <td>2263</td>\n",
       "      <td>20\\t</td>\n",
       "      <td>10\\t</td>\n",
       "      <td>1\\t</td>\n",
       "      <td>-\\t</td>\n",
       "      <td>4.3\\t</td>\n",
       "      <td>80.0</td>\n",
       "      <td>0.2\\t</td>\n",
       "      <td>6\\t</td>\n",
       "      <td>7.71</td>\n",
       "    </tr>\n",
       "    <tr>\n",
       "      <th>5</th>\n",
       "      <td>Vinícius Júnior</td>\n",
       "      <td>Real Madrid</td>\n",
       "      <td>21</td>\n",
       "      <td>25(2)</td>\n",
       "      <td>2212</td>\n",
       "      <td>14\\t</td>\n",
       "      <td>6\\t</td>\n",
       "      <td>6\\t</td>\n",
       "      <td>-\\t</td>\n",
       "      <td>2.5\\t</td>\n",
       "      <td>85.6</td>\n",
       "      <td>0.1\\t</td>\n",
       "      <td>6\\t</td>\n",
       "      <td>7.67</td>\n",
       "    </tr>\n",
       "  </tbody>\n",
       "</table>\n",
       "</div>"
      ],
      "text/plain": [
       "                        Name          Team  Age   Apps  Mins Goals Assists  \\\n",
       "Playerid                                                                     \n",
       "1         Robert Lewandowski       Bayern    33     27  2351  31\\t     1\\t   \n",
       "2              Kylian Mbappé          PSG    23  25(1)  2222  15\\t    10\\t   \n",
       "3              Karim Benzema  Real Madrid    34     25  2060  22\\t    11\\t   \n",
       "4              Mohamed Salah    Liverpool    29  25(2)  2263  20\\t    10\\t   \n",
       "5            Vinícius Júnior  Real Madrid    21  25(2)  2212  14\\t     6\\t   \n",
       "\n",
       "          Yel  Red    SpG   PS% AerialsWon  MotM  Rating  \n",
       "Playerid                                                  \n",
       "1         2\\t  -\\t    5\\t  77.9      1.6\\t   8\\t    8.03  \n",
       "2         8\\t  -\\t    4\\t  81.0      0.1\\t   8\\t    7.81  \n",
       "3         -\\t  -\\t  3.8\\t  85.5      0.6\\t  10\\t    7.77  \n",
       "4         1\\t  -\\t  4.3\\t  80.0      0.2\\t   6\\t    7.71  \n",
       "5         6\\t  -\\t  2.5\\t  85.6      0.1\\t   6\\t    7.67  "
      ]
     },
     "execution_count": 28,
     "metadata": {},
     "output_type": "execute_result"
    }
   ],
   "source": [
    "df.head()"
   ]
  },
  {
   "cell_type": "code",
   "execution_count": 47,
   "id": "52d1555f",
   "metadata": {},
   "outputs": [],
   "source": [
    "# Summing up full time and not full time appearances\n",
    "\n",
    "df[\"Apps\"] = [int(i.split(\"(\")[0]) if (len(i) < 3) else int(i.split(\"(\")[0]) + int(i.split(\"(\")[1][:-1]) for i in df[\"Apps\"]]"
   ]
  },
  {
   "cell_type": "code",
   "execution_count": 49,
   "id": "081b0669",
   "metadata": {},
   "outputs": [
    {
     "name": "stdout",
     "output_type": "stream",
     "text": [
      "<class 'pandas.core.frame.DataFrame'>\n",
      "Int64Index: 1610 entries, 1 to 1610\n",
      "Data columns (total 14 columns):\n",
      " #   Column      Non-Null Count  Dtype  \n",
      "---  ------      --------------  -----  \n",
      " 0   Name        1610 non-null   object \n",
      " 1   Team        1607 non-null   object \n",
      " 2   Age         1610 non-null   int64  \n",
      " 3   Apps        1610 non-null   int64  \n",
      " 4   Mins        1610 non-null   int64  \n",
      " 5   Goals       1610 non-null   object \n",
      " 6   Assists     1610 non-null   object \n",
      " 7   Yel         1610 non-null   object \n",
      " 8   Red         1610 non-null   object \n",
      " 9   SpG         1610 non-null   object \n",
      " 10  PS%         1610 non-null   float64\n",
      " 11  AerialsWon  1610 non-null   object \n",
      " 12  MotM        1610 non-null   object \n",
      " 13  Rating      1610 non-null   float64\n",
      "dtypes: float64(2), int64(3), object(9)\n",
      "memory usage: 188.7+ KB\n"
     ]
    }
   ],
   "source": [
    "df.info()\n"
   ]
  },
  {
   "cell_type": "code",
   "execution_count": 50,
   "id": "b809d696",
   "metadata": {},
   "outputs": [
    {
     "data": {
      "text/html": [
       "<div>\n",
       "<style scoped>\n",
       "    .dataframe tbody tr th:only-of-type {\n",
       "        vertical-align: middle;\n",
       "    }\n",
       "\n",
       "    .dataframe tbody tr th {\n",
       "        vertical-align: top;\n",
       "    }\n",
       "\n",
       "    .dataframe thead th {\n",
       "        text-align: right;\n",
       "    }\n",
       "</style>\n",
       "<table border=\"1\" class=\"dataframe\">\n",
       "  <thead>\n",
       "    <tr style=\"text-align: right;\">\n",
       "      <th></th>\n",
       "      <th>Name</th>\n",
       "      <th>Team</th>\n",
       "      <th>Age</th>\n",
       "      <th>Apps</th>\n",
       "      <th>Mins</th>\n",
       "      <th>Goals</th>\n",
       "      <th>Assists</th>\n",
       "      <th>Yel</th>\n",
       "      <th>Red</th>\n",
       "      <th>SpG</th>\n",
       "      <th>PS%</th>\n",
       "      <th>AerialsWon</th>\n",
       "      <th>MotM</th>\n",
       "      <th>Rating</th>\n",
       "    </tr>\n",
       "    <tr>\n",
       "      <th>Playerid</th>\n",
       "      <th></th>\n",
       "      <th></th>\n",
       "      <th></th>\n",
       "      <th></th>\n",
       "      <th></th>\n",
       "      <th></th>\n",
       "      <th></th>\n",
       "      <th></th>\n",
       "      <th></th>\n",
       "      <th></th>\n",
       "      <th></th>\n",
       "      <th></th>\n",
       "      <th></th>\n",
       "      <th></th>\n",
       "    </tr>\n",
       "  </thead>\n",
       "  <tbody>\n",
       "    <tr>\n",
       "      <th>1</th>\n",
       "      <td>Robert Lewandowski</td>\n",
       "      <td>Bayern</td>\n",
       "      <td>33</td>\n",
       "      <td>27</td>\n",
       "      <td>2351</td>\n",
       "      <td>31\\t</td>\n",
       "      <td>1\\t</td>\n",
       "      <td>2\\t</td>\n",
       "      <td>-\\t</td>\n",
       "      <td>5\\t</td>\n",
       "      <td>77.9</td>\n",
       "      <td>1.6\\t</td>\n",
       "      <td>8\\t</td>\n",
       "      <td>8.03</td>\n",
       "    </tr>\n",
       "    <tr>\n",
       "      <th>2</th>\n",
       "      <td>Kylian Mbappé</td>\n",
       "      <td>PSG</td>\n",
       "      <td>23</td>\n",
       "      <td>26</td>\n",
       "      <td>2222</td>\n",
       "      <td>15\\t</td>\n",
       "      <td>10\\t</td>\n",
       "      <td>8\\t</td>\n",
       "      <td>-\\t</td>\n",
       "      <td>4\\t</td>\n",
       "      <td>81.0</td>\n",
       "      <td>0.1\\t</td>\n",
       "      <td>8\\t</td>\n",
       "      <td>7.81</td>\n",
       "    </tr>\n",
       "    <tr>\n",
       "      <th>3</th>\n",
       "      <td>Karim Benzema</td>\n",
       "      <td>Real Madrid</td>\n",
       "      <td>34</td>\n",
       "      <td>25</td>\n",
       "      <td>2060</td>\n",
       "      <td>22\\t</td>\n",
       "      <td>11\\t</td>\n",
       "      <td>-\\t</td>\n",
       "      <td>-\\t</td>\n",
       "      <td>3.8\\t</td>\n",
       "      <td>85.5</td>\n",
       "      <td>0.6\\t</td>\n",
       "      <td>10\\t</td>\n",
       "      <td>7.77</td>\n",
       "    </tr>\n",
       "    <tr>\n",
       "      <th>4</th>\n",
       "      <td>Mohamed Salah</td>\n",
       "      <td>Liverpool</td>\n",
       "      <td>29</td>\n",
       "      <td>27</td>\n",
       "      <td>2263</td>\n",
       "      <td>20\\t</td>\n",
       "      <td>10\\t</td>\n",
       "      <td>1\\t</td>\n",
       "      <td>-\\t</td>\n",
       "      <td>4.3\\t</td>\n",
       "      <td>80.0</td>\n",
       "      <td>0.2\\t</td>\n",
       "      <td>6\\t</td>\n",
       "      <td>7.71</td>\n",
       "    </tr>\n",
       "    <tr>\n",
       "      <th>5</th>\n",
       "      <td>Vinícius Júnior</td>\n",
       "      <td>Real Madrid</td>\n",
       "      <td>21</td>\n",
       "      <td>27</td>\n",
       "      <td>2212</td>\n",
       "      <td>14\\t</td>\n",
       "      <td>6\\t</td>\n",
       "      <td>6\\t</td>\n",
       "      <td>-\\t</td>\n",
       "      <td>2.5\\t</td>\n",
       "      <td>85.6</td>\n",
       "      <td>0.1\\t</td>\n",
       "      <td>6\\t</td>\n",
       "      <td>7.67</td>\n",
       "    </tr>\n",
       "  </tbody>\n",
       "</table>\n",
       "</div>"
      ],
      "text/plain": [
       "                        Name          Team  Age  Apps  Mins Goals Assists  \\\n",
       "Playerid                                                                    \n",
       "1         Robert Lewandowski       Bayern    33    27  2351  31\\t     1\\t   \n",
       "2              Kylian Mbappé          PSG    23    26  2222  15\\t    10\\t   \n",
       "3              Karim Benzema  Real Madrid    34    25  2060  22\\t    11\\t   \n",
       "4              Mohamed Salah    Liverpool    29    27  2263  20\\t    10\\t   \n",
       "5            Vinícius Júnior  Real Madrid    21    27  2212  14\\t     6\\t   \n",
       "\n",
       "          Yel  Red    SpG   PS% AerialsWon  MotM  Rating  \n",
       "Playerid                                                  \n",
       "1         2\\t  -\\t    5\\t  77.9      1.6\\t   8\\t    8.03  \n",
       "2         8\\t  -\\t    4\\t  81.0      0.1\\t   8\\t    7.81  \n",
       "3         -\\t  -\\t  3.8\\t  85.5      0.6\\t  10\\t    7.77  \n",
       "4         1\\t  -\\t  4.3\\t  80.0      0.2\\t   6\\t    7.71  \n",
       "5         6\\t  -\\t  2.5\\t  85.6      0.1\\t   6\\t    7.67  "
      ]
     },
     "execution_count": 50,
     "metadata": {},
     "output_type": "execute_result"
    }
   ],
   "source": [
    "df.head()"
   ]
  },
  {
   "cell_type": "code",
   "execution_count": 57,
   "id": "a2eed396",
   "metadata": {},
   "outputs": [],
   "source": [
    "# Removing \\t from columns\n",
    "\n",
    "cols = [\"Goals\", \"Assists\", \"Yel\", \"Red\", \"SpG\", \"AerialsWon\", \"MotM\"]\n",
    "\n",
    "for col in cols:\n",
    "    df[col] = df[col].str.replace(\"\\t\", \"\").replace(\"-\", \"0\").astype(float)"
   ]
  },
  {
   "cell_type": "code",
   "execution_count": 58,
   "id": "89bf3ead",
   "metadata": {},
   "outputs": [
    {
     "data": {
      "text/html": [
       "<div>\n",
       "<style scoped>\n",
       "    .dataframe tbody tr th:only-of-type {\n",
       "        vertical-align: middle;\n",
       "    }\n",
       "\n",
       "    .dataframe tbody tr th {\n",
       "        vertical-align: top;\n",
       "    }\n",
       "\n",
       "    .dataframe thead th {\n",
       "        text-align: right;\n",
       "    }\n",
       "</style>\n",
       "<table border=\"1\" class=\"dataframe\">\n",
       "  <thead>\n",
       "    <tr style=\"text-align: right;\">\n",
       "      <th></th>\n",
       "      <th>Name</th>\n",
       "      <th>Team</th>\n",
       "      <th>Age</th>\n",
       "      <th>Apps</th>\n",
       "      <th>Mins</th>\n",
       "      <th>Goals</th>\n",
       "      <th>Assists</th>\n",
       "      <th>Yel</th>\n",
       "      <th>Red</th>\n",
       "      <th>SpG</th>\n",
       "      <th>PS%</th>\n",
       "      <th>AerialsWon</th>\n",
       "      <th>MotM</th>\n",
       "      <th>Rating</th>\n",
       "    </tr>\n",
       "    <tr>\n",
       "      <th>Playerid</th>\n",
       "      <th></th>\n",
       "      <th></th>\n",
       "      <th></th>\n",
       "      <th></th>\n",
       "      <th></th>\n",
       "      <th></th>\n",
       "      <th></th>\n",
       "      <th></th>\n",
       "      <th></th>\n",
       "      <th></th>\n",
       "      <th></th>\n",
       "      <th></th>\n",
       "      <th></th>\n",
       "      <th></th>\n",
       "    </tr>\n",
       "  </thead>\n",
       "  <tbody>\n",
       "    <tr>\n",
       "      <th>1</th>\n",
       "      <td>Robert Lewandowski</td>\n",
       "      <td>Bayern</td>\n",
       "      <td>33</td>\n",
       "      <td>27</td>\n",
       "      <td>2351</td>\n",
       "      <td>31.0</td>\n",
       "      <td>1.0</td>\n",
       "      <td>2.0</td>\n",
       "      <td>0.0</td>\n",
       "      <td>5.0</td>\n",
       "      <td>77.9</td>\n",
       "      <td>1.6</td>\n",
       "      <td>8.0</td>\n",
       "      <td>8.03</td>\n",
       "    </tr>\n",
       "    <tr>\n",
       "      <th>2</th>\n",
       "      <td>Kylian Mbappé</td>\n",
       "      <td>PSG</td>\n",
       "      <td>23</td>\n",
       "      <td>26</td>\n",
       "      <td>2222</td>\n",
       "      <td>15.0</td>\n",
       "      <td>10.0</td>\n",
       "      <td>8.0</td>\n",
       "      <td>0.0</td>\n",
       "      <td>4.0</td>\n",
       "      <td>81.0</td>\n",
       "      <td>0.1</td>\n",
       "      <td>8.0</td>\n",
       "      <td>7.81</td>\n",
       "    </tr>\n",
       "    <tr>\n",
       "      <th>3</th>\n",
       "      <td>Karim Benzema</td>\n",
       "      <td>Real Madrid</td>\n",
       "      <td>34</td>\n",
       "      <td>25</td>\n",
       "      <td>2060</td>\n",
       "      <td>22.0</td>\n",
       "      <td>11.0</td>\n",
       "      <td>0.0</td>\n",
       "      <td>0.0</td>\n",
       "      <td>3.8</td>\n",
       "      <td>85.5</td>\n",
       "      <td>0.6</td>\n",
       "      <td>10.0</td>\n",
       "      <td>7.77</td>\n",
       "    </tr>\n",
       "    <tr>\n",
       "      <th>4</th>\n",
       "      <td>Mohamed Salah</td>\n",
       "      <td>Liverpool</td>\n",
       "      <td>29</td>\n",
       "      <td>27</td>\n",
       "      <td>2263</td>\n",
       "      <td>20.0</td>\n",
       "      <td>10.0</td>\n",
       "      <td>1.0</td>\n",
       "      <td>0.0</td>\n",
       "      <td>4.3</td>\n",
       "      <td>80.0</td>\n",
       "      <td>0.2</td>\n",
       "      <td>6.0</td>\n",
       "      <td>7.71</td>\n",
       "    </tr>\n",
       "    <tr>\n",
       "      <th>5</th>\n",
       "      <td>Vinícius Júnior</td>\n",
       "      <td>Real Madrid</td>\n",
       "      <td>21</td>\n",
       "      <td>27</td>\n",
       "      <td>2212</td>\n",
       "      <td>14.0</td>\n",
       "      <td>6.0</td>\n",
       "      <td>6.0</td>\n",
       "      <td>0.0</td>\n",
       "      <td>2.5</td>\n",
       "      <td>85.6</td>\n",
       "      <td>0.1</td>\n",
       "      <td>6.0</td>\n",
       "      <td>7.67</td>\n",
       "    </tr>\n",
       "  </tbody>\n",
       "</table>\n",
       "</div>"
      ],
      "text/plain": [
       "                        Name          Team  Age  Apps  Mins  Goals  Assists  \\\n",
       "Playerid                                                                      \n",
       "1         Robert Lewandowski       Bayern    33    27  2351   31.0      1.0   \n",
       "2              Kylian Mbappé          PSG    23    26  2222   15.0     10.0   \n",
       "3              Karim Benzema  Real Madrid    34    25  2060   22.0     11.0   \n",
       "4              Mohamed Salah    Liverpool    29    27  2263   20.0     10.0   \n",
       "5            Vinícius Júnior  Real Madrid    21    27  2212   14.0      6.0   \n",
       "\n",
       "          Yel  Red  SpG   PS%  AerialsWon  MotM  Rating  \n",
       "Playerid                                                 \n",
       "1         2.0  0.0  5.0  77.9         1.6   8.0    8.03  \n",
       "2         8.0  0.0  4.0  81.0         0.1   8.0    7.81  \n",
       "3         0.0  0.0  3.8  85.5         0.6  10.0    7.77  \n",
       "4         1.0  0.0  4.3  80.0         0.2   6.0    7.71  \n",
       "5         6.0  0.0  2.5  85.6         0.1   6.0    7.67  "
      ]
     },
     "execution_count": 58,
     "metadata": {},
     "output_type": "execute_result"
    }
   ],
   "source": [
    "df.head()"
   ]
  },
  {
   "cell_type": "code",
   "execution_count": 59,
   "id": "6b35c1dd",
   "metadata": {},
   "outputs": [
    {
     "name": "stdout",
     "output_type": "stream",
     "text": [
      "<class 'pandas.core.frame.DataFrame'>\n",
      "Int64Index: 1610 entries, 1 to 1610\n",
      "Data columns (total 14 columns):\n",
      " #   Column      Non-Null Count  Dtype  \n",
      "---  ------      --------------  -----  \n",
      " 0   Name        1610 non-null   object \n",
      " 1   Team        1607 non-null   object \n",
      " 2   Age         1610 non-null   int64  \n",
      " 3   Apps        1610 non-null   int64  \n",
      " 4   Mins        1610 non-null   int64  \n",
      " 5   Goals       1610 non-null   float64\n",
      " 6   Assists     1610 non-null   float64\n",
      " 7   Yel         1610 non-null   float64\n",
      " 8   Red         1610 non-null   float64\n",
      " 9   SpG         1610 non-null   float64\n",
      " 10  PS%         1610 non-null   float64\n",
      " 11  AerialsWon  1610 non-null   float64\n",
      " 12  MotM        1610 non-null   float64\n",
      " 13  Rating      1610 non-null   float64\n",
      "dtypes: float64(9), int64(3), object(2)\n",
      "memory usage: 188.7+ KB\n"
     ]
    }
   ],
   "source": [
    "df.info()"
   ]
  },
  {
   "cell_type": "code",
   "execution_count": 60,
   "id": "95789c83",
   "metadata": {},
   "outputs": [
    {
     "data": {
      "text/plain": [
       "Name          1607\n",
       "Team            98\n",
       "Age             24\n",
       "Apps            17\n",
       "Mins          1063\n",
       "Goals           22\n",
       "Assists         13\n",
       "Yel             13\n",
       "Red              4\n",
       "SpG             39\n",
       "PS%            354\n",
       "AerialsWon      50\n",
       "MotM            10\n",
       "Rating         150\n",
       "dtype: int64"
      ]
     },
     "execution_count": 60,
     "metadata": {},
     "output_type": "execute_result"
    }
   ],
   "source": [
    "df.nunique()"
   ]
  },
  {
   "cell_type": "code",
   "execution_count": 62,
   "id": "7540c418",
   "metadata": {},
   "outputs": [],
   "source": [
    "# Removing Categorigal Features \n",
    "\n",
    "df.drop(columns=[\"Name\", \"Team\"], inplace=True)"
   ]
  },
  {
   "cell_type": "code",
   "execution_count": 63,
   "id": "5845ee2d",
   "metadata": {},
   "outputs": [
    {
     "data": {
      "text/html": [
       "<div>\n",
       "<style scoped>\n",
       "    .dataframe tbody tr th:only-of-type {\n",
       "        vertical-align: middle;\n",
       "    }\n",
       "\n",
       "    .dataframe tbody tr th {\n",
       "        vertical-align: top;\n",
       "    }\n",
       "\n",
       "    .dataframe thead th {\n",
       "        text-align: right;\n",
       "    }\n",
       "</style>\n",
       "<table border=\"1\" class=\"dataframe\">\n",
       "  <thead>\n",
       "    <tr style=\"text-align: right;\">\n",
       "      <th></th>\n",
       "      <th>Age</th>\n",
       "      <th>Apps</th>\n",
       "      <th>Mins</th>\n",
       "      <th>Goals</th>\n",
       "      <th>Assists</th>\n",
       "      <th>Yel</th>\n",
       "      <th>Red</th>\n",
       "      <th>SpG</th>\n",
       "      <th>PS%</th>\n",
       "      <th>AerialsWon</th>\n",
       "      <th>MotM</th>\n",
       "      <th>Rating</th>\n",
       "    </tr>\n",
       "    <tr>\n",
       "      <th>Playerid</th>\n",
       "      <th></th>\n",
       "      <th></th>\n",
       "      <th></th>\n",
       "      <th></th>\n",
       "      <th></th>\n",
       "      <th></th>\n",
       "      <th></th>\n",
       "      <th></th>\n",
       "      <th></th>\n",
       "      <th></th>\n",
       "      <th></th>\n",
       "      <th></th>\n",
       "    </tr>\n",
       "  </thead>\n",
       "  <tbody>\n",
       "    <tr>\n",
       "      <th>1</th>\n",
       "      <td>33</td>\n",
       "      <td>27</td>\n",
       "      <td>2351</td>\n",
       "      <td>31.0</td>\n",
       "      <td>1.0</td>\n",
       "      <td>2.0</td>\n",
       "      <td>0.0</td>\n",
       "      <td>5.0</td>\n",
       "      <td>77.9</td>\n",
       "      <td>1.6</td>\n",
       "      <td>8.0</td>\n",
       "      <td>8.03</td>\n",
       "    </tr>\n",
       "    <tr>\n",
       "      <th>2</th>\n",
       "      <td>23</td>\n",
       "      <td>26</td>\n",
       "      <td>2222</td>\n",
       "      <td>15.0</td>\n",
       "      <td>10.0</td>\n",
       "      <td>8.0</td>\n",
       "      <td>0.0</td>\n",
       "      <td>4.0</td>\n",
       "      <td>81.0</td>\n",
       "      <td>0.1</td>\n",
       "      <td>8.0</td>\n",
       "      <td>7.81</td>\n",
       "    </tr>\n",
       "    <tr>\n",
       "      <th>3</th>\n",
       "      <td>34</td>\n",
       "      <td>25</td>\n",
       "      <td>2060</td>\n",
       "      <td>22.0</td>\n",
       "      <td>11.0</td>\n",
       "      <td>0.0</td>\n",
       "      <td>0.0</td>\n",
       "      <td>3.8</td>\n",
       "      <td>85.5</td>\n",
       "      <td>0.6</td>\n",
       "      <td>10.0</td>\n",
       "      <td>7.77</td>\n",
       "    </tr>\n",
       "    <tr>\n",
       "      <th>4</th>\n",
       "      <td>29</td>\n",
       "      <td>27</td>\n",
       "      <td>2263</td>\n",
       "      <td>20.0</td>\n",
       "      <td>10.0</td>\n",
       "      <td>1.0</td>\n",
       "      <td>0.0</td>\n",
       "      <td>4.3</td>\n",
       "      <td>80.0</td>\n",
       "      <td>0.2</td>\n",
       "      <td>6.0</td>\n",
       "      <td>7.71</td>\n",
       "    </tr>\n",
       "    <tr>\n",
       "      <th>5</th>\n",
       "      <td>21</td>\n",
       "      <td>27</td>\n",
       "      <td>2212</td>\n",
       "      <td>14.0</td>\n",
       "      <td>6.0</td>\n",
       "      <td>6.0</td>\n",
       "      <td>0.0</td>\n",
       "      <td>2.5</td>\n",
       "      <td>85.6</td>\n",
       "      <td>0.1</td>\n",
       "      <td>6.0</td>\n",
       "      <td>7.67</td>\n",
       "    </tr>\n",
       "  </tbody>\n",
       "</table>\n",
       "</div>"
      ],
      "text/plain": [
       "          Age  Apps  Mins  Goals  Assists  Yel  Red  SpG   PS%  AerialsWon  \\\n",
       "Playerid                                                                     \n",
       "1          33    27  2351   31.0      1.0  2.0  0.0  5.0  77.9         1.6   \n",
       "2          23    26  2222   15.0     10.0  8.0  0.0  4.0  81.0         0.1   \n",
       "3          34    25  2060   22.0     11.0  0.0  0.0  3.8  85.5         0.6   \n",
       "4          29    27  2263   20.0     10.0  1.0  0.0  4.3  80.0         0.2   \n",
       "5          21    27  2212   14.0      6.0  6.0  0.0  2.5  85.6         0.1   \n",
       "\n",
       "          MotM  Rating  \n",
       "Playerid                \n",
       "1          8.0    8.03  \n",
       "2          8.0    7.81  \n",
       "3         10.0    7.77  \n",
       "4          6.0    7.71  \n",
       "5          6.0    7.67  "
      ]
     },
     "execution_count": 63,
     "metadata": {},
     "output_type": "execute_result"
    }
   ],
   "source": [
    "df.head()"
   ]
  },
  {
   "cell_type": "markdown",
   "id": "7f16d2bd",
   "metadata": {},
   "source": [
    "## Exploratory Data Analysis"
   ]
  },
  {
   "cell_type": "code",
   "execution_count": 64,
   "id": "26735cd2",
   "metadata": {},
   "outputs": [],
   "source": [
    "import matplotlib.pyplot as plt\n",
    "import seaborn as sns"
   ]
  },
  {
   "cell_type": "code",
   "execution_count": 77,
   "id": "5b4761e7",
   "metadata": {},
   "outputs": [
    {
     "data": {
      "image/png": "[encoded data removed]",
      "text/plain": [
       "<Figure size 640x480 with 2 Axes>"
      ]
     },
     "metadata": {},
     "output_type": "display_data"
    }
   ],
   "source": [
    "sns.heatmap(df.corr());"
   ]
  },
  {
   "cell_type": "code",
   "execution_count": 76,
   "id": "f1e0f2a1",
   "metadata": {},
   "outputs": [
    {
     "data": {
      "text/plain": [
       "0.7956460553061206"
      ]
     },
     "execution_count": 76,
     "metadata": {},
     "output_type": "execute_result"
    }
   ],
   "source": [
    "# Multicollinearity \n",
    "df[\"Goals\"].corr(df[\"SpG\"])"
   ]
  },
  {
   "cell_type": "code",
   "execution_count": 80,
   "id": "0496a4bd",
   "metadata": {},
   "outputs": [
    {
     "data": {
      "text/plain": [
       "(0.4827474872375472, 0.5188732193914275)"
      ]
     },
     "execution_count": 80,
     "metadata": {},
     "output_type": "execute_result"
    }
   ],
   "source": [
    "df[\"Rating\"].corr(df[\"SpG\"]), df[\"Rating\"].corr(df[\"Goals\"])"
   ]
  },
  {
   "cell_type": "code",
   "execution_count": 82,
   "id": "4d2dc7b2",
   "metadata": {},
   "outputs": [],
   "source": [
    "# As Goals have higher correlation with our target-Rating We will get rid of \"SpG\" column\n",
    "\n",
    "df.drop(columns=\"SpG\", inplace=True)"
   ]
  },
  {
   "cell_type": "markdown",
   "id": "4e0f03b2",
   "metadata": {},
   "source": [
    "## Linear Regression"
   ]
  },
  {
   "cell_type": "code",
   "execution_count": 88,
   "id": "df6ce0cb",
   "metadata": {},
   "outputs": [],
   "source": [
    "from sklearn.linear_model import LinearRegression\n",
    "from sklearn.model_selection import train_test_split\n",
    "from sklearn.metrics import mean_absolute_error"
   ]
  },
  {
   "cell_type": "code",
   "execution_count": 83,
   "id": "c3c4da43",
   "metadata": {},
   "outputs": [],
   "source": [
    "# Target and features split\n",
    "target = \"Rating\"\n",
    "y = df[target]\n",
    "X = df.drop(columns=target)"
   ]
  },
  {
   "cell_type": "code",
   "execution_count": 86,
   "id": "48491105",
   "metadata": {},
   "outputs": [],
   "source": [
    "# Train-Test split\n",
    "X_train, X_test, y_train, y_test = train_test_split(X, y, test_size=0.2, random_state=42)"
   ]
  },
  {
   "cell_type": "code",
   "execution_count": 89,
   "id": "574e5c9c",
   "metadata": {},
   "outputs": [],
   "source": [
    "# Baseline Prediction\n",
    "y_pred_baseline = [y_train.mean()] * len(y_train)"
   ]
  },
  {
   "cell_type": "code",
   "execution_count": 90,
   "id": "d5731f7d",
   "metadata": {},
   "outputs": [
    {
     "data": {
      "text/plain": [
       "0.21870251195941512"
      ]
     },
     "execution_count": 90,
     "metadata": {},
     "output_type": "execute_result"
    }
   ],
   "source": [
    "# Baseline MAE\n",
    "mean_absolute_error(y_pred_baseline, y_train)"
   ]
  },
  {
   "cell_type": "code",
   "execution_count": 87,
   "id": "4af12ac8",
   "metadata": {},
   "outputs": [
    {
     "data": {
      "text/html": [
       "<style>#sk-container-id-1 {color: black;}#sk-container-id-1 pre{padding: 0;}#sk-container-id-1 div.sk-toggleable {background-color: white;}#sk-container-id-1 label.sk-toggleable__label {cursor: pointer;display: block;width: 100%;margin-bottom: 0;padding: 0.3em;box-sizing: border-box;text-align: center;}#sk-container-id-1 label.sk-toggleable__label-arrow:before {content: \"▸\";float: left;margin-right: 0.25em;color: #696969;}#sk-container-id-1 label.sk-toggleable__label-arrow:hover:before {color: black;}#sk-container-id-1 div.sk-estimator:hover label.sk-toggleable__label-arrow:before {color: black;}#sk-container-id-1 div.sk-toggleable__content {max-height: 0;max-width: 0;overflow: hidden;text-align: left;background-color: #f0f8ff;}#sk-container-id-1 div.sk-toggleable__content pre {margin: 0.2em;color: black;border-radius: 0.25em;background-color: #f0f8ff;}#sk-container-id-1 input.sk-toggleable__control:checked~div.sk-toggleable__content {max-height: 200px;max-width: 100%;overflow: auto;}#sk-container-id-1 input.sk-toggleable__control:checked~label.sk-toggleable__label-arrow:before {content: \"▾\";}#sk-container-id-1 div.sk-estimator input.sk-toggleable__control:checked~label.sk-toggleable__label {background-color: #d4ebff;}#sk-container-id-1 div.sk-label input.sk-toggleable__control:checked~label.sk-toggleable__label {background-color: #d4ebff;}#sk-container-id-1 input.sk-hidden--visually {border: 0;clip: rect(1px 1px 1px 1px);clip: rect(1px, 1px, 1px, 1px);height: 1px;margin: -1px;overflow: hidden;padding: 0;position: absolute;width: 1px;}#sk-container-id-1 div.sk-estimator {font-family: monospace;background-color: #f0f8ff;border: 1px dotted black;border-radius: 0.25em;box-sizing: border-box;margin-bottom: 0.5em;}#sk-container-id-1 div.sk-estimator:hover {background-color: #d4ebff;}#sk-container-id-1 div.sk-parallel-item::after {content: \"\";width: 100%;border-bottom: 1px solid gray;flex-grow: 1;}#sk-container-id-1 div.sk-label:hover label.sk-toggleable__label {background-color: #d4ebff;}#sk-container-id-1 div.sk-serial::before {content: \"\";position: absolute;border-left: 1px solid gray;box-sizing: border-box;top: 0;bottom: 0;left: 50%;z-index: 0;}#sk-container-id-1 div.sk-serial {display: flex;flex-direction: column;align-items: center;background-color: white;padding-right: 0.2em;padding-left: 0.2em;position: relative;}#sk-container-id-1 div.sk-item {position: relative;z-index: 1;}#sk-container-id-1 div.sk-parallel {display: flex;align-items: stretch;justify-content: center;background-color: white;position: relative;}#sk-container-id-1 div.sk-item::before, #sk-container-id-1 div.sk-parallel-item::before {content: \"\";position: absolute;border-left: 1px solid gray;box-sizing: border-box;top: 0;bottom: 0;left: 50%;z-index: -1;}#sk-container-id-1 div.sk-parallel-item {display: flex;flex-direction: column;z-index: 1;position: relative;background-color: white;}#sk-container-id-1 div.sk-parallel-item:first-child::after {align-self: flex-end;width: 50%;}#sk-container-id-1 div.sk-parallel-item:last-child::after {align-self: flex-start;width: 50%;}#sk-container-id-1 div.sk-parallel-item:only-child::after {width: 0;}#sk-container-id-1 div.sk-dashed-wrapped {border: 1px dashed gray;margin: 0 0.4em 0.5em 0.4em;box-sizing: border-box;padding-bottom: 0.4em;background-color: white;}#sk-container-id-1 div.sk-label label {font-family: monospace;font-weight: bold;display: inline-block;line-height: 1.2em;}#sk-container-id-1 div.sk-label-container {text-align: center;}#sk-container-id-1 div.sk-container {/* jupyter's `normalize.less` sets `[hidden] { display: none; }` but bootstrap.min.css set `[hidden] { display: none !important; }` so we also need the `!important` here to be able to override the default hidden behavior on the sphinx rendered scikit-learn.org. See: https://github.com/scikit-learn/scikit-learn/issues/21755 */display: inline-block !important;position: relative;}#sk-container-id-1 div.sk-text-repr-fallback {display: none;}</style><div id=\"sk-container-id-1\" class=\"sk-top-container\"><div class=\"sk-text-repr-fallback\"><pre>LinearRegression()</pre><b>In a Jupyter environment, please rerun this cell to show the HTML representation or trust the notebook. <br />On GitHub, the HTML representation is unable to render, please try loading this page with nbviewer.org.</b></div><div class=\"sk-container\" hidden><div class=\"sk-item\"><div class=\"sk-estimator sk-toggleable\"><input class=\"sk-toggleable__control sk-hidden--visually\" id=\"sk-estimator-id-1\" type=\"checkbox\" checked><label for=\"sk-estimator-id-1\" class=\"sk-toggleable__label sk-toggleable__label-arrow\">LinearRegression</label><div class=\"sk-toggleable__content\"><pre>LinearRegression()</pre></div></div></div></div></div>"
      ],
      "text/plain": [
       "LinearRegression()"
      ]
     },
     "execution_count": 87,
     "metadata": {},
     "output_type": "execute_result"
    }
   ],
   "source": [
    "# Creating and fitting the model\n",
    "model = LinearRegression()\n",
    "\n",
    "model.fit(X_train, y_train)"
   ]
  },
  {
   "cell_type": "code",
   "execution_count": 91,
   "id": "c47f2f65",
   "metadata": {},
   "outputs": [
    {
     "data": {
      "text/plain": [
       "0.11066537143899281"
      ]
     },
     "execution_count": 91,
     "metadata": {},
     "output_type": "execute_result"
    }
   ],
   "source": [
    "# Testing the model on train data\n",
    "\n",
    "mean_absolute_error(model.predict(X_train), y_train)"
   ]
  },
  {
   "cell_type": "code",
   "execution_count": 92,
   "id": "41fbfd22",
   "metadata": {},
   "outputs": [
    {
     "data": {
      "text/plain": [
       "0.11076120018890181"
      ]
     },
     "execution_count": 92,
     "metadata": {},
     "output_type": "execute_result"
    }
   ],
   "source": [
    "# Testing the model on test data\n",
    "\n",
    "mean_absolute_error(model.predict(X_test), y_test)"
   ]
  },
  {
   "cell_type": "markdown",
   "id": "e42cfdb5",
   "metadata": {},
   "source": [
    "## Interactive predictor"
   ]
  },
  {
   "cell_type": "code",
   "execution_count": 112,
   "id": "13095e2f",
   "metadata": {},
   "outputs": [],
   "source": [
    "# Defining make_prediction function\n",
    "\n",
    "def make_prediction(age, apps, mins, goals, assists, yel, red, ps, aerialswon, motm):\n",
    "    data = {\n",
    "        \"Age\": age,\n",
    "        \"Apps\": apps,\n",
    "        \"Mins\": mins,\n",
    "        \"Goals\": goals,\n",
    "        \"Assists\": assists,\n",
    "        \"Yel\": yel,\n",
    "        \"Red\": red,\n",
    "        \"PS%\": ps,\n",
    "        \"AerialsWon\": aerialswon,\n",
    "        \"MotM\": motm\n",
    "    }\n",
    "    df = pd.DataFrame(data, index=[0])\n",
    "    prediction = model.predict(df).round(2)[0]\n",
    "    return f\"Predicted Rating: {prediction}\""
   ]
  },
  {
   "cell_type": "code",
   "execution_count": 124,
   "id": "f0351014",
   "metadata": {},
   "outputs": [
    {
     "data": {
      "text/plain": [
       "'Predicted Rating: 7.18'"
      ]
     },
     "execution_count": 124,
     "metadata": {},
     "output_type": "execute_result"
    }
   ],
   "source": [
    "make_prediction(26, 11, 990, 2, 4, 1, 0, 91.3, 0.5, 4)"
   ]
  },
  {
   "cell_type": "code",
   "execution_count": 120,
   "id": "44693529",
   "metadata": {},
   "outputs": [],
   "source": [
    "from ipywidgets import Dropdown, FloatSlider, IntSlider, interact"
   ]
  },
  {
   "cell_type": "code",
   "execution_count": 122,
   "id": "9751f456",
   "metadata": {},
   "outputs": [
    {
     "data": {
      "application/vnd.jupyter.widget-view+json": {
       "model_id": "57976ed67fb541a2a6abeaf3fffc0155",
       "version_major": 2,
       "version_minor": 0
      },
      "text/plain": [
       "interactive(children=(IntSlider(value=26, description='age', max=40, min=17), IntSlider(value=21, description=…"
      ]
     },
     "metadata": {},
     "output_type": "display_data"
    }
   ],
   "source": [
    "interact(\n",
    "    make_prediction,\n",
    "    age=IntSlider(\n",
    "        min=X_train[\"Age\"].min(),\n",
    "        max=X_train[\"Age\"].max(),\n",
    "        value=X_train[\"Age\"].mean(),\n",
    "    ),\n",
    "    apps=IntSlider(\n",
    "        min=X_train[\"Apps\"].min(),\n",
    "        max=X_train[\"Apps\"].max(),\n",
    "        value=X_train[\"Apps\"].mean(),\n",
    "    ),\n",
    "    mins=IntSlider(\n",
    "        min=X_train[\"Mins\"].min(),\n",
    "        max=X_train[\"Mins\"].max(),\n",
    "        value=X_train[\"Mins\"].mean(),\n",
    "    ),\n",
    "    goals=IntSlider(\n",
    "        min=X_train[\"Goals\"].min(),\n",
    "        max=X_train[\"Goals\"].max(),\n",
    "        value=X_train[\"Goals\"].mean(),\n",
    "    ),\n",
    "    assists=IntSlider(\n",
    "        min=X_train[\"Assists\"].min(),\n",
    "        max=X_train[\"Assists\"].max(),\n",
    "        value=X_train[\"Assists\"].mean(),\n",
    "    ),\n",
    "    yel=IntSlider(\n",
    "        min=X_train[\"Yel\"].min(),\n",
    "        max=X_train[\"Yel\"].max(),\n",
    "        value=X_train[\"Yel\"].mean(),\n",
    "    ),\n",
    "    red=IntSlider(\n",
    "        min=X_train[\"Red\"].min(),\n",
    "        max=X_train[\"Red\"].max(),\n",
    "        value=X_train[\"Red\"].mean(),\n",
    "    ),\n",
    "    ps=FloatSlider(\n",
    "        min=X_train[\"PS%\"].min(),\n",
    "        max=X_train[\"PS%\"].max(),\n",
    "        step=0.1,\n",
    "        value=X_train[\"PS%\"].mean(),\n",
    "    ),\n",
    "    aerialswon=FloatSlider(\n",
    "        min=X_train[\"AerialsWon\"].min(),\n",
    "        max=X_train[\"AerialsWon\"].max(),\n",
    "        step=0.1,\n",
    "        value=X_train[\"AerialsWon\"].mean(),\n",
    "    ),\n",
    "    motm=IntSlider(\n",
    "        min=X_train[\"MotM\"].min(),\n",
    "        max=X_train[\"MotM\"].max(),\n",
    "        value=X_train[\"MotM\"].mean(),\n",
    "    )\n",
    ");"
   ]
  }
 ],
 "metadata": {
  "kernelspec": {
   "display_name": "Python 3 (ipykernel)",
   "language": "python",
   "name": "python3"
  },
  "language_info": {
   "codemirror_mode": {
    "name": "ipython",
    "version": 3
   },
   "file_extension": ".py",
   "mimetype": "text/x-python",
   "name": "python",
   "nbconvert_exporter": "python",
   "pygments_lexer": "ipython3",
   "version": "3.11.4"
  }
 },
 "nbformat": 4,
 "nbformat_minor": 5
}
